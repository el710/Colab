{
  "nbformat": 4,
  "nbformat_minor": 0,
  "metadata": {
    "colab": {
      "provenance": [],
      "include_colab_link": true
    },
    "kernelspec": {
      "name": "python3",
      "display_name": "Python 3"
    },
    "language_info": {
      "name": "python"
    }
  },
  "cells": [
    {
      "cell_type": "markdown",
      "metadata": {
        "id": "view-in-github",
        "colab_type": "text"
      },
      "source": [
        "<a href=\"https://colab.research.google.com/github/el710/Colab/blob/main/%D0%94%D0%97_7_%D0%9E%D0%B1%D1%83%D1%87%D0%B5%D0%BD%D0%B8%D0%B5_%D1%81_%D1%83%D1%87%D0%B8%D1%82%D0%B5%D0%BB%D0%B5%D0%BC_%D0%B8_%D0%B1%D0%B5%D0%B7_%D1%83%D1%87%D0%B8%D1%82%D0%B5%D0%BB%D1%8F.ipynb\" target=\"_parent\"><img src=\"https://colab.research.google.com/assets/colab-badge.svg\" alt=\"Open In Colab\"/></a>"
      ]
    },
    {
      "cell_type": "code",
      "source": [
        "from google.colab import drive\n",
        "drive.mount('/content/drive')"
      ],
      "metadata": {
        "id": "frZM5LXlexX8",
        "colab": {
          "base_uri": "https://localhost:8080/"
        },
        "outputId": "2ecbf7f7-53a9-4d50-d6db-a841f6cf5930"
      },
      "execution_count": null,
      "outputs": [
        {
          "output_type": "stream",
          "name": "stdout",
          "text": [
            "Mounted at /content/drive\n"
          ]
        }
      ]
    },
    {
      "cell_type": "markdown",
      "source": [
        "#Домашнее задание: Обучение с учителем и без учителя. Д.З"
      ],
      "metadata": {
        "id": "AGlBT9l0E1-h"
      }
    },
    {
      "cell_type": "markdown",
      "source": [
        "Обучение с учителем (supervised learning) и без учителя (unsupervised learning) — две основные парадигмы машинного обучения, которые используются для решения различных задач.\n",
        "\n",
        "### Обучение с учителем (Supervised Learning)\n",
        "Обучение с учителем включает в себя обучение модели на размеченных данных. Размеченные данные означают, что для каждого примера в наборе данных известен правильный ответ или метка.\n",
        "\n",
        "#### Примеры задач обучения с учителем:\n",
        "1. **Классификация**: Предсказание категории или класса, к которому принадлежит объект.\n",
        "   - Пример: Распознавание изображений (определить, что изображено на картинке: кошка или собака).\n",
        "2. **Регрессия**: Предсказание непрерывного значения.\n",
        "   - Пример: Прогнозирование цен на недвижимость.\n",
        "\n",
        "#### Основные этапы обучения с учителем:\n",
        "1. **Сбор и разметка данных**: Подготовка набора данных, где каждый пример имеет метку.\n",
        "2. **Разделение данных**: Деление набора данных на обучающую и тестовую части.\n",
        "3. **Выбор модели**: Определение алгоритма, который будет использоваться для обучения (например, линейная регрессия, дерево решений).\n",
        "4. **Обучение модели**: Использование обучающего набора данных для настройки параметров модели.\n",
        "5. **Оценка модели**: Проверка качества модели на тестовом наборе данных.\n",
        "\n",
        "### Обучение без учителя (Unsupervised Learning)\n",
        "Обучение без учителя включает в себя обучение модели на неразмеченных данных. Модель должна самостоятельно выявить структуру или паттерны в данных.\n",
        "\n",
        "#### Примеры задач обучения без учителя:\n",
        "1. **Кластеризация**: Группировка объектов в кластеры на основе их сходства.\n",
        "   - Пример: Сегментация клиентов по схожести их покупательских привычек.\n",
        "2. **Поиск ассоциаций**: Выявление правил ассоциаций между объектами в данных.\n",
        "   - Пример: Анализ рыночной корзины (какие продукты часто покупаются вместе).\n",
        "\n",
        "#### Основные этапы обучения без учителя:\n",
        "1. **Сбор данных**: Подготовка набора данных без меток.\n",
        "2. **Выбор алгоритма**: Определение алгоритма, который будет использоваться для обучения (например, k-means, алгоритм ассоциации).\n",
        "3. **Обучение модели**: Применение алгоритма к данным для выявления структур или паттернов.\n",
        "4. **Интерпретация результатов**: Анализ полученных результатов и их интерпретация.\n",
        "\n",
        "### Домашнее задание\n",
        "Создайте копию блокнота. Далее выполнйте задания в ней.\n",
        "\n",
        "1. **Теоретическая часть**:\n",
        "   - Опишите различия между обучением с учителем и без учителя.\n",
        "   - Приведите примеры задач, которые решаются с помощью обучения с учителем, и задачи, которые решаются с помощью обучения без учителя.\n",
        "\n",
        "2. **Практическая часть**:\n",
        "   - Найдите датасет, который можно использовать для обучения с учителем и без учителя. (Например, датасет \"Wine\" из библиотеки Scikit-Learn. Этот датасет содержит информацию о химическом составе различных вин и их классах (три разных сорта вина)).\n",
        "   - Реализуйте  алгоритм обучения с учителем и без учителя. Интерпретируйте результаты.\n",
        "\n",
        "```python\n",
        "# Импортируем необходимые библиотеки\n",
        "import numpy as np\n",
        "from sklearn.datasets import load_wine\n",
        "from sklearn.model_selection import train_test_split\n",
        "from sklearn.linear_model import LogisticRegression\n",
        "from sklearn.metrics import accuracy_score, classification_report\n",
        "```\n",
        "Ссылку на ваш блокнот разместите в домашнем задании.\n",
        "\n",
        "Удачи в выполнении задания! Если возникнут вопросы, не стесняйтесь обращаться за помощью."
      ],
      "metadata": {
        "id": "te4noydZ-8dY"
      }
    },
    {
      "cell_type": "code",
      "source": [
        "# Импортируем необходимые библиотеки\n",
        "import numpy as np\n",
        "from sklearn.datasets import load_wine\n",
        "from sklearn.model_selection import train_test_split\n",
        "from sklearn.linear_model import LogisticRegression\n",
        "from sklearn.metrics import accuracy_score, classification_report\n"
      ],
      "metadata": {
        "id": "hdIWmGBjiJxS"
      },
      "execution_count": null,
      "outputs": []
    },
    {
      "cell_type": "markdown",
      "source": [
        "### Обучение с учителем: Классификация с использованием логистической регрессии\n",
        "Используем датасет \"Iris\" для классификации видов ирисов."
      ],
      "metadata": {
        "id": "LUUJPb119iB5"
      }
    },
    {
      "cell_type": "code",
      "source": [
        "# Импортируем необходимые библиотеки\n",
        "import numpy as np\n",
        "from sklearn.datasets import load_wine\n",
        "from sklearn.model_selection import train_test_split\n",
        "from sklearn.linear_model import LogisticRegression\n",
        "from sklearn.metrics import accuracy_score, classification_report\n",
        "\n",
        "# Загружаем датасет Wine\n",
        "wine = load_wine()\n",
        "X = wine.data\n",
        "y = wine.target\n",
        "print(wine.DESCR)\n",
        "\n",
        "\n",
        "# Разделяем данные на обучающую и тестовую части\n",
        "X_train, X_test, y_train, y_test = train_test_split(X, y, test_size=0.3, random_state=42)\n",
        "\n",
        "# Обучаем модель логистической регрессии\n",
        "model = LogisticRegression(max_iter=10000)\n",
        "model.fit(X_train, y_train)\n",
        "\n",
        "# Предсказываем результаты на тестовых данных\n",
        "y_pred = model.predict(X_test)\n",
        "\n",
        "# Оцениваем качество модели\n",
        "accuracy = accuracy_score(y_test, y_pred)\n",
        "print(\"Accuracy:\", accuracy)\n",
        "print(\"Classification Report:\")\n",
        "print(classification_report(y_test, y_pred))"
      ],
      "metadata": {
        "colab": {
          "base_uri": "https://localhost:8080/"
        },
        "id": "U-ExRba19leb",
        "outputId": "f488e2ed-52d6-4f1e-c116-337f1564d46f"
      },
      "execution_count": null,
      "outputs": [
        {
          "output_type": "stream",
          "name": "stdout",
          "text": [
            ".. _wine_dataset:\n",
            "\n",
            "Wine recognition dataset\n",
            "------------------------\n",
            "\n",
            "**Data Set Characteristics:**\n",
            "\n",
            ":Number of Instances: 178\n",
            ":Number of Attributes: 13 numeric, predictive attributes and the class\n",
            ":Attribute Information:\n",
            "    - Alcohol\n",
            "    - Malic acid\n",
            "    - Ash\n",
            "    - Alcalinity of ash\n",
            "    - Magnesium\n",
            "    - Total phenols\n",
            "    - Flavanoids\n",
            "    - Nonflavanoid phenols\n",
            "    - Proanthocyanins\n",
            "    - Color intensity\n",
            "    - Hue\n",
            "    - OD280/OD315 of diluted wines\n",
            "    - Proline\n",
            "    - class:\n",
            "        - class_0\n",
            "        - class_1\n",
            "        - class_2\n",
            "\n",
            ":Summary Statistics:\n",
            "\n",
            "============================= ==== ===== ======= =====\n",
            "                                Min   Max   Mean     SD\n",
            "============================= ==== ===== ======= =====\n",
            "Alcohol:                      11.0  14.8    13.0   0.8\n",
            "Malic Acid:                   0.74  5.80    2.34  1.12\n",
            "Ash:                          1.36  3.23    2.36  0.27\n",
            "Alcalinity of Ash:            10.6  30.0    19.5   3.3\n",
            "Magnesium:                    70.0 162.0    99.7  14.3\n",
            "Total Phenols:                0.98  3.88    2.29  0.63\n",
            "Flavanoids:                   0.34  5.08    2.03  1.00\n",
            "Nonflavanoid Phenols:         0.13  0.66    0.36  0.12\n",
            "Proanthocyanins:              0.41  3.58    1.59  0.57\n",
            "Colour Intensity:              1.3  13.0     5.1   2.3\n",
            "Hue:                          0.48  1.71    0.96  0.23\n",
            "OD280/OD315 of diluted wines: 1.27  4.00    2.61  0.71\n",
            "Proline:                       278  1680     746   315\n",
            "============================= ==== ===== ======= =====\n",
            "\n",
            ":Missing Attribute Values: None\n",
            ":Class Distribution: class_0 (59), class_1 (71), class_2 (48)\n",
            ":Creator: R.A. Fisher\n",
            ":Donor: Michael Marshall (MARSHALL%PLU@io.arc.nasa.gov)\n",
            ":Date: July, 1988\n",
            "\n",
            "This is a copy of UCI ML Wine recognition datasets.\n",
            "https://archive.ics.uci.edu/ml/machine-learning-databases/wine/wine.data\n",
            "\n",
            "The data is the results of a chemical analysis of wines grown in the same\n",
            "region in Italy by three different cultivators. There are thirteen different\n",
            "measurements taken for different constituents found in the three types of\n",
            "wine.\n",
            "\n",
            "Original Owners:\n",
            "\n",
            "Forina, M. et al, PARVUS -\n",
            "An Extendible Package for Data Exploration, Classification and Correlation.\n",
            "Institute of Pharmaceutical and Food Analysis and Technologies,\n",
            "Via Brigata Salerno, 16147 Genoa, Italy.\n",
            "\n",
            "Citation:\n",
            "\n",
            "Lichman, M. (2013). UCI Machine Learning Repository\n",
            "[https://archive.ics.uci.edu/ml]. Irvine, CA: University of California,\n",
            "School of Information and Computer Science.\n",
            "\n",
            ".. dropdown:: References\n",
            "\n",
            "    (1) S. Aeberhard, D. Coomans and O. de Vel,\n",
            "    Comparison of Classifiers in High Dimensional Settings,\n",
            "    Tech. Rep. no. 92-02, (1992), Dept. of Computer Science and Dept. of\n",
            "    Mathematics and Statistics, James Cook University of North Queensland.\n",
            "    (Also submitted to Technometrics).\n",
            "\n",
            "    The data was used with many others for comparing various\n",
            "    classifiers. The classes are separable, though only RDA\n",
            "    has achieved 100% correct classification.\n",
            "    (RDA : 100%, QDA 99.4%, LDA 98.9%, 1NN 96.1% (z-transformed data))\n",
            "    (All results using the leave-one-out technique)\n",
            "\n",
            "    (2) S. Aeberhard, D. Coomans and O. de Vel,\n",
            "    \"THE CLASSIFICATION PERFORMANCE OF RDA\"\n",
            "    Tech. Rep. no. 92-01, (1992), Dept. of Computer Science and Dept. of\n",
            "    Mathematics and Statistics, James Cook University of North Queensland.\n",
            "    (Also submitted to Journal of Chemometrics).\n",
            "\n",
            "Accuracy: 1.0\n",
            "Classification Report:\n",
            "              precision    recall  f1-score   support\n",
            "\n",
            "           0       1.00      1.00      1.00        19\n",
            "           1       1.00      1.00      1.00        21\n",
            "           2       1.00      1.00      1.00        14\n",
            "\n",
            "    accuracy                           1.00        54\n",
            "   macro avg       1.00      1.00      1.00        54\n",
            "weighted avg       1.00      1.00      1.00        54\n",
            "\n"
          ]
        }
      ]
    },
    {
      "cell_type": "markdown",
      "source": [
        "##Пояснение к метрикам\n",
        "###Accuracy:\n",
        "\n",
        "**accuracy**: Доля правильно предсказанных классов среди всех предсказаний. В данном случае, accuracy равна 1.00 (или 100%), что означает, что модель правильно предсказала все 45 примеров.\n",
        "\n",
        "###Macro Avg:\n",
        "\n",
        "**macro** avg: Среднее арифметическое значения precision, recall и F1-score по всем классам. В данном случае все значения равны 1.00, что указывает на идеальную модель для всех классов.\n",
        "precision: Доля правильно предсказанных положительных результатов среди всех предсказанных положительных результатов.\n",
        "recall: Доля правильно предсказанных положительных результатов среди всех фактических положительных результатов.\n",
        "f1-score: Среднее гармоническое значение precision и recall, что позволяет учесть оба этих параметра.\n",
        "\n",
        "\n",
        "###Weighted Avg:\n",
        "\n",
        "**weighted avg**: Взвешенное среднее значение precision, recall и F1-score по всем классам, где вес каждого класса пропорционален количеству истинных примеров этого класса. В данном случае все значения равны 1.00, что также указывает на идеальную модель.\n",
        "Взвешенное среднее полезно, когда классы неравномерно распределены, так как оно учитывает количество примеров каждого класса."
      ],
      "metadata": {
        "id": "FyeffmKtETfK"
      }
    },
    {
      "cell_type": "markdown",
      "source": [
        "### Обучение без учителя: Кластеризация с использованием алгоритма K-means\n",
        "Используем тот же датасет \"Iris\" для кластеризации."
      ],
      "metadata": {
        "id": "mJvok8bO9wcJ"
      }
    },
    {
      "cell_type": "code",
      "source": [
        "# Импортируем необходимые библиотеки\n",
        "from sklearn.cluster import KMeans\n",
        "import matplotlib.pyplot as plt\n",
        "\n",
        "# Обучаем модель K-means\n",
        "kmeans = KMeans(n_clusters=3, random_state=42)\n",
        "kmeans.fit(X)\n",
        "\n",
        "# Предсказываем кластеры\n",
        "clusters = kmeans.predict(X)\n",
        "\n",
        "# Визуализируем результаты кластеризации\n",
        "plt.scatter(X[:, 0], X[:, 12], c=clusters, cmap='cividis', marker='v')\n",
        "plt.title('K-means Clustering of Wine Dataset')\n",
        "plt.xlabel('Alchohol')\n",
        "plt.ylabel('Proline')\n",
        "plt.show()"
      ],
      "metadata": {
        "colab": {
          "base_uri": "https://localhost:8080/",
          "height": 472
        },
        "id": "32JK4J4d9zjY",
        "outputId": "85ab0eef-bfd5-48a2-9216-15c3d50c89a2"
      },
      "execution_count": null,
      "outputs": [
        {
          "output_type": "display_data",
          "data": {
            "text/plain": [
              "<Figure size 640x480 with 1 Axes>"
            ],
            "image/png": "[encoded data removed]"
          },
          "metadata": {}
        }
      ]
    },
    {
      "cell_type": "markdown",
      "source": [
        "\n",
        "### Пояснение коду\n",
        "1. **Обучение с учителем (Supervised Learning)**:\n",
        "   - Загружаем датасет Iris.\n",
        "   - Разделяем данные на обучающую и тестовую выборки.\n",
        "   - Обучаем модель логистической регрессии на обучающей выборке.\n",
        "   - Оцениваем модель на тестовой выборке, выводим точность и отчёт классификации.\n",
        "\n",
        "2. **Обучение без учителя (Unsupervised Learning)**:\n",
        "   - Загружаем датасет Iris.\n",
        "   - Обучаем модель K-means для кластеризации данных.\n",
        "   - Визуализируем результаты кластеризации, отображая кластеры на графике.\n"
      ],
      "metadata": {
        "id": "2fC4Qj2W9YxU"
      }
    },
    {
      "cell_type": "code",
      "execution_count": null,
      "metadata": {
        "id": "jHejYZBB9YDO"
      },
      "outputs": [],
      "source": []
    }
  ]
}