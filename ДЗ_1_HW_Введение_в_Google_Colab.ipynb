{
  "nbformat": 4,
  "nbformat_minor": 0,
  "metadata": {
    "colab": {
      "provenance": [],
      "mount_file_id": "1BMmBpXV44PE1zZmzQDCdlBn1SQ4AuAKg",
      "authorship_tag": "ABX9TyOsUy3tqXFe6k499MZ+e/3+",
      "include_colab_link": true
    },
    "kernelspec": {
      "name": "python3",
      "display_name": "Python 3"
    },
    "language_info": {
      "name": "python"
    }
  },
  "cells": [
    {
      "cell_type": "markdown",
      "metadata": {
        "id": "view-in-github",
        "colab_type": "text"
      },
      "source": [
        "<a href=\"https://colab.research.google.com/github/el710/Colab/blob/main/%D0%94%D0%97_1_HW_%D0%92%D0%B2%D0%B5%D0%B4%D0%B5%D0%BD%D0%B8%D0%B5_%D0%B2_Google_Colab.ipynb\" target=\"_parent\"><img src=\"https://colab.research.google.com/assets/colab-badge.svg\" alt=\"Open In Colab\"/></a>"
      ]
    },
    {
      "cell_type": "markdown",
      "source": [
        "\n",
        "\n",
        "    Сохранение и совместное использование:\n",
        "        Сохраните ваш документ на Google Диске.\n",
        "        Настройте доступ к документу для общего использования и отправьте ссылку вашему преподавателю.\n"
      ],
      "metadata": {
        "id": "5aNvyOf856AA"
      }
    },
    {
      "cell_type": "markdown",
      "source": [
        "Google colab provide a way to learn Python with form of notebooks"
      ],
      "metadata": {
        "id": "n0ygJJcppZB8"
      }
    },
    {
      "cell_type": "code",
      "source": [
        "print(f\"Vivat Google Colaboratory!\")"
      ],
      "metadata": {
        "colab": {
          "base_uri": "https://localhost:8080/"
        },
        "id": "j77-syk-qHyG",
        "outputId": "37616041-948e-448a-f413-e0f0c82fd1be"
      },
      "execution_count": null,
      "outputs": [
        {
          "output_type": "stream",
          "name": "stdout",
          "text": [
            "Vivat Google Colaboratory!\n"
          ]
        }
      ]
    },
    {
      "cell_type": "markdown",
      "source": [
        "Основы Python:"
      ],
      "metadata": {
        "id": "rRXcvzaI6SDe"
      }
    },
    {
      "cell_type": "code",
      "source": [
        "import random\n",
        "\n",
        "my_list = [random.randint(10, 20) for _ in range(10)]\n",
        "\n",
        "def items_sum(list):\n",
        "    return sum(list)\n",
        "\n",
        "print(f\"list: {my_list}\")\n",
        "print(f\"Sum of list items = {items_sum(my_list)}\")"
      ],
      "metadata": {
        "colab": {
          "base_uri": "https://localhost:8080/"
        },
        "id": "cICJF7qaqZm0",
        "outputId": "47647320-0fbc-41e1-834d-c80ab8f5aa7d"
      },
      "execution_count": null,
      "outputs": [
        {
          "output_type": "stream",
          "name": "stdout",
          "text": [
            "list: [10, 19, 15, 20, 12, 10, 16, 17, 15, 19]\n",
            "Sum of list items = 153\n"
          ]
        }
      ]
    },
    {
      "cell_type": "markdown",
      "source": [
        "Работа с библиотеками:"
      ],
      "metadata": {
        "id": "TqXeGF0L4D0w"
      }
    },
    {
      "cell_type": "code",
      "source": [
        "import numpy as np\n",
        "\n",
        "arr = np.linspace(0, 100, 100 // 5, dtype=np.int32)\n",
        "print(f\"array: {arr} - {arr.size} items\")\n",
        "print(f\"average: {arr.mean()}\")"
      ],
      "metadata": {
        "colab": {
          "base_uri": "https://localhost:8080/"
        },
        "id": "N7E4LvzS4Iv2",
        "outputId": "2edb07d9-9e9b-47d4-dce0-9c92d5e31b7e"
      },
      "execution_count": null,
      "outputs": [
        {
          "output_type": "stream",
          "name": "stdout",
          "text": [
            "array: [  0   5  10  15  21  26  31  36  42  47  52  57  63  68  73  78  84  89\n",
            "  94 100] - 20 items\n",
            "average: 49.55\n"
          ]
        }
      ]
    },
    {
      "cell_type": "markdown",
      "source": [
        "Загрузка данных:"
      ],
      "metadata": {
        "id": "jUPgfdmO93Up"
      }
    },
    {
      "cell_type": "code",
      "source": [
        "import pandas as pd\n",
        "import os\n",
        "\n",
        "# print(os.getcwd())\n",
        "\n",
        "data_frame = pd.read_csv(\"./sheet.csv\", sep=';')\n",
        "\n",
        "for i in range(5):\n",
        "  print(data_frame.loc[i].to_json())"
      ],
      "metadata": {
        "id": "P4qekoVl94rw",
        "colab": {
          "base_uri": "https://localhost:8080/"
        },
        "outputId": "4fff4a04-576b-4e35-d943-7c72ff88bf8c"
      },
      "execution_count": null,
      "outputs": [
        {
          "output_type": "stream",
          "name": "stdout",
          "text": [
            "{\"login\":\"github-actions[bot]\",\"repo_name\":\"zhaobudaomingzi\\/lobe-chat\",\"type\":\"PushEvent\"}\n",
            "{\"login\":\"ingo-h\",\"repo_name\":\"UPnPsdk\\/UPnPsdk\",\"type\":\"PushEvent\"}\n",
            "{\"login\":\"github-actions[bot]\",\"repo_name\":\"yaperson\\/yaperson\",\"type\":\"PushEvent\"}\n",
            "{\"login\":\"github-actions[bot]\",\"repo_name\":\"diotoborg\\/facere-accusamus\",\"type\":\"PushEvent\"}\n",
            "{\"login\":\"dependabot[bot]\",\"repo_name\":\"media-streaming-mesh\\/mediastreamingmesh.io\",\"type\":\"DeleteEvent\"}\n"
          ]
        }
      ]
    },
    {
      "cell_type": "markdown",
      "source": [
        "Визуализация данных:"
      ],
      "metadata": {
        "id": "2JOamD0wMV7Z"
      }
    },
    {
      "cell_type": "code",
      "source": [
        "import matplotlib.pyplot as plt\n",
        "\n",
        "data_np = data_frame.to_numpy()\n",
        "\n",
        "x = [i[0] for i in data_np]\n",
        "y = [i[2] for i in data_np]\n",
        "# print(x)\n",
        "# print(y)\n",
        "figure, axes = plt.subplots()\n",
        "axes.plot(y)\n",
        "plt.show()"
      ],
      "metadata": {
        "colab": {
          "base_uri": "https://localhost:8080/",
          "height": 430
        },
        "id": "JlslAzQJMXIG",
        "outputId": "dce157df-e3ec-40ab-aa01-38487034b7ff"
      },
      "execution_count": null,
      "outputs": [
        {
          "output_type": "display_data",
          "data": {
            "text/plain": [
              "<Figure size 640x480 with 1 Axes>"
            ],
            "image/png": "[encoded data removed]"
          },
          "metadata": {}
        }
      ]
    },
    {
      "cell_type": "markdown",
      "source": [
        "Использование генетических алгоритмов:"
      ],
      "metadata": {
        "id": "yy5xJg7AfmWz"
      }
    },
    {
      "cell_type": "code",
      "source": [],
      "metadata": {
        "id": "vr9xazNufqLc"
      },
      "execution_count": null,
      "outputs": []
    },
    {
      "cell_type": "code",
      "source": [
        "import random\n",
        "\n",
        "# Количество особей в каждом поколении\n",
        "POPULATION_SIZE = 100 ## count of string's variants on one iteration\n",
        "\n",
        "# Валидные гены - items for strings\n",
        "GENES = '''abcdefghijklmnopqrstuvwxyzABCDEFGHIJKLMNOP\n",
        "QRSTUVWXYZ 1234567890, .-;:_!\"#%&/()=?@${[]}'''\n",
        "\n",
        "# Целевая строка для генерации\n",
        "TARGET = \"Carpe diem memento mori\"\n",
        "\n",
        "class Individual(object):\n",
        "\t'''\n",
        "\tКласс, представляющий отдельную особь (индивида) в популяции\n",
        "\t'''\n",
        "\t## object with variant of string\n",
        "\n",
        "\tdef __init__(self, chromosome):\n",
        "\t\tself.chromosome = chromosome      ## current string\n",
        "\t\tself.fitness = self.cal_fitness() ## how many items need to change\n",
        "\n",
        "\t@classmethod\n",
        "\tdef mutated_genes(self):  ## take random item from set of items\n",
        "\t\t'''\n",
        "\t\tСоздаем случайные гены для мутации\n",
        "\t\t'''\n",
        "\t\tglobal GENES\n",
        "\t\tgene = random.choice(GENES)\n",
        "\t\treturn gene\n",
        "\n",
        "\t@classmethod\n",
        "\tdef create_gnome(self):   ## make string with randon items with length of TARGET\n",
        "\t\t'''\n",
        "\t\tСоздаем хромосому - набор генов\n",
        "\t\t'''\n",
        "\t\tglobal TARGET\n",
        "\t\tgnome_len = len(TARGET)\n",
        "\t\treturn [self.mutated_genes() for _ in range(gnome_len)]\n",
        "\n",
        "\tdef gene_transfer(self, par2):  ##  make New string with mess of parents strings and random items\n",
        "\t\t'''\n",
        "\t\tПередаем гены новому поколению индивидов\n",
        "\t\t'''\n",
        "\n",
        "\t\tchild_chromosome = []\n",
        "\t\tfor gp1, gp2 in zip(self.chromosome, par2.chromosome):\n",
        "\n",
        "\t\t\tprob = random.random()\n",
        "\n",
        "\t\t\t# если вероятность меньше 0,45, берем ген\n",
        "\t\t\t# от родителя 1\n",
        "\t\t\tif prob < 0.45:\n",
        "\t\t\t\tchild_chromosome.append(gp1)\n",
        "\n",
        "\t\t\t# если вероятность между 0.45 и 0.90, берем\n",
        "\t\t\t# ген от родителя 2\n",
        "\t\t\telif prob < 0.90:\n",
        "\t\t\t\tchild_chromosome.append(gp2)\n",
        "\n",
        "\t\t\t# в противном случае берем случайный ген (мутация),\n",
        "\t\t\telse:\n",
        "\t\t\t\tchild_chromosome.append(self.mutated_genes())\n",
        "\n",
        "\t\t## new string on iteration\n",
        "\t\treturn Individual(child_chromosome)\n",
        "\n",
        "\tdef cal_fitness(self): ## how many items need to replace\n",
        "\t\t'''\n",
        "\t\tРассчитываем показатель соответствия, это количество\n",
        "\t\tсимволов в строке, которые отличаются от целевой\n",
        "\t\tстроки.\n",
        "\t\t'''\n",
        "\t\tglobal TARGET\n",
        "\t\tfitness = 0\n",
        "\t\tfor gs, gt in zip(self.chromosome, TARGET):\n",
        "\t\t\tif gs != gt: fitness+= 1\n",
        "\t\treturn fitness\n",
        "\n",
        "# Driver code\n",
        "def main():\n",
        "\tglobal POPULATION_SIZE\n",
        "\n",
        "\tstart_stuck = 0\n",
        "\twhere_stuck = 0\n",
        "\n",
        "\t#Текущее поколение\n",
        "\tgeneration = 1\n",
        "\n",
        "\tfound = False\n",
        "\tpopulation = [] ## list of objects on iteration\n",
        "\n",
        "\t# Новое поколение  - init the First iteration\n",
        "\tfor _ in range(POPULATION_SIZE):\n",
        "\t\t\t\tgnome = Individual.create_gnome() ## make random string\n",
        "\t\t\t\tpopulation.append(Individual(gnome)) ## make object to keep string\n",
        "\n",
        "\twhile not found:\n",
        "\n",
        "\t\t# Отсортируем популяцию в порядке возрастания оценки соответствия целевой функции\n",
        "\t\tpopulation = sorted(population, key = lambda x:x.fitness)\n",
        "\t\t## sort objects(strings) from 'higly likely' to 'absolutely wrong'\n",
        "\n",
        "\t\t# Если у нас появился индивид, достигший целевой функции\n",
        "\t\t# цикл совершенствования можно прервать\n",
        "\t\tif population[0].fitness <= 0: ## if most perspective string has nothing to change - done\n",
        "\t\t\tfound = True\n",
        "\t\t\tbreak\n",
        "\n",
        "\t\t# В противном случае - продолжаем создавать новые поколения\n",
        "\t\tnew_generation = []\n",
        "\n",
        "\t\t# Определяем 10% популяции, наиболее соответствующих целевой фукнции\n",
        "\t\t# чтобы передать их гены будущим поколениям\n",
        "\t\ts = int((10*POPULATION_SIZE)/100)\n",
        "\t\tnew_generation.extend(population[:s]) ## take as is first 10% strings from all objects  to new iteration\n",
        "\n",
        "\t\t## fill up new iteration with new cross-made objects\n",
        "\t\ts = int((90*POPULATION_SIZE)/100)\n",
        "\t\tfor _ in range(s):\n",
        "\t\t\t# parent1 = random.choice(population[:50]) ## ??? why here used \"magic number\" = 50\n",
        "\t\t\t# parent2 = random.choice(population[:50]) ## what if POPULATION_SIZE will less then 50 ???\n",
        "\t\t\t## maybe this way more correct:\n",
        "\t\t\tparent1 = random.choice(population[:POPULATION_SIZE // 2])\n",
        "\t\t\tparent2 = random.choice(population[:POPULATION_SIZE // 2])\n",
        "\n",
        "\t\t\tchild = parent1.gene_transfer(parent2)\n",
        "\t\t\tnew_generation.append(child)\n",
        "\n",
        "\t\tpopulation = new_generation  ## new iteration to work\n",
        "\n",
        "\t\tif generation % 2:\n",
        "\t\t\tprint(\"Generation: {}\\tString: {}\\tFitness: {}\". format(generation, \"\".join(population[0].chromosome), population[0].fitness))\n",
        "\n",
        "\t\tgeneration += 1\n",
        "\n",
        "\tprint(\"Generation: {}\\tString: {}\\tFitness: {}\".format(generation, \"\".join(population[0].chromosome), population[0].fitness))\n",
        "\n",
        "if __name__ == '__main__':\n",
        "\tmain()\n"
      ],
      "metadata": {
        "id": "1VXInXxHbhFd",
        "outputId": "9221782b-f298-49a5-910e-c7972cd73be2",
        "colab": {
          "base_uri": "https://localhost:8080/"
        }
      },
      "execution_count": null,
      "outputs": [
        {
          "output_type": "stream",
          "name": "stdout",
          "text": [
            "Generation: 1\tString: cm%d\"C#Z}V3kDzEztotp_l&\tFitness: 21\n",
            "Generation: 3\tString: cm%d\"C#Z}V3kDzEztotp_l&\tFitness: 21\n",
            "Generation: 5\tString: 2;,dD,di,g3)f{/,toj03r)\tFitness: 18\n",
            "Generation: 7\tString: .Xj\"DOoinm FL  Dto nH[)\tFitness: 17\n",
            "Generation: 9\tString: Tsvs= dinm7(e{fntoG0HrZ\tFitness: 14\n",
            "Generation: 11\tString: Tsvs= dinm7(e{fntoG0HrZ\tFitness: 14\n",
            "Generation: 13\tString: Tsax= dinm (e$.n$o 0or&\tFitness: 12\n",
            "Generation: 15\tString: Ts,xe di5m (em.noo %HrV\tFitness: 11\n",
            "Generation: 17\tString: Tzase dinm (emfnto 0or&\tFitness: 9\n",
            "Generation: 19\tString: Tzase dinm (emfnto 0or&\tFitness: 9\n",
            "Generation: 21\tString: Ta,xe di_m (em.nto 0orV\tFitness: 8\n",
            "Generation: 23\tString: Taap1 di8m aemento[mor&\tFitness: 7\n",
            "Generation: 25\tString: Taap1 di8m aemento[mor&\tFitness: 7\n",
            "Generation: 27\tString: EaKpe di8m Nemfnto morf\tFitness: 6\n",
            "Generation: 29\tString: -aape diCm 7emento mor&\tFitness: 5\n",
            "Generation: 31\tString: -aape diCm 7emento mor&\tFitness: 5\n",
            "Generation: 33\tString: -aape diCm 7emento mor&\tFitness: 5\n",
            "Generation: 35\tString: -aape diCm 7emento mor&\tFitness: 5\n",
            "Generation: 37\tString: -aape diCm 7emento mor&\tFitness: 5\n",
            "Generation: 39\tString: -aape diCm 7emento mor&\tFitness: 5\n",
            "Generation: 41\tString: -aape diCm 7emento mor&\tFitness: 5\n",
            "Generation: 43\tString: -aape diCm 7emento mor&\tFitness: 5\n",
            "Generation: 45\tString: }aape diem (emento mor&\tFitness: 4\n",
            "Generation: 47\tString: }aape diem (emento mor&\tFitness: 4\n",
            "Generation: 49\tString: }aape diem (emento mor&\tFitness: 4\n",
            "Generation: 51\tString: }aape diem (emento mor&\tFitness: 4\n",
            "Generation: 53\tString: }aape diem (emento mor&\tFitness: 4\n",
            "Generation: 55\tString: }aape diem (emento mor&\tFitness: 4\n",
            "Generation: 57\tString: }aape diem (emento mor&\tFitness: 4\n",
            "Generation: 59\tString: }arpe diem Nemento mor\n",
            "\tFitness: 3\n",
            "Generation: 61\tString: }arpe diem Nemento mor\n",
            "\tFitness: 3\n",
            "Generation: 63\tString: }arpe diem Nemento mor\n",
            "\tFitness: 3\n",
            "Generation: 65\tString: }arpe diem Nemento mor\n",
            "\tFitness: 3\n",
            "Generation: 67\tString: }arpe diem Nemento mor\n",
            "\tFitness: 3\n",
            "Generation: 69\tString: }arpe diem Nemento mor\n",
            "\tFitness: 3\n",
            "Generation: 71\tString: /arpe diem memento morY\tFitness: 2\n",
            "Generation: 73\tString: /arpe diem memento morY\tFitness: 2\n",
            "Generation: 75\tString: /arpe diem memento morY\tFitness: 2\n",
            "Generation: 77\tString: /arpe diem memento morY\tFitness: 2\n",
            "Generation: 79\tString: /arpe diem memento morY\tFitness: 2\n",
            "Generation: 81\tString: /arpe diem memento morY\tFitness: 2\n",
            "Generation: 83\tString: /arpe diem memento morY\tFitness: 2\n",
            "Generation: 85\tString: /arpe diem memento morY\tFitness: 2\n",
            "Generation: 87\tString: /arpe diem memento morY\tFitness: 2\n",
            "Generation: 89\tString: /arpe diem memento morY\tFitness: 2\n",
            "Generation: 91\tString: /arpe diem memento morY\tFitness: 2\n",
            "Generation: 93\tString: /arpe diem memento morY\tFitness: 2\n",
            "Generation: 95\tString: /arpe diem memento morY\tFitness: 2\n",
            "Generation: 97\tString: /arpe diem memento morY\tFitness: 2\n",
            "Generation: 99\tString: /arpe diem memento morY\tFitness: 2\n",
            "Generation: 101\tString: /arpe diem memento morY\tFitness: 2\n",
            "Generation: 103\tString: /arpe diem memento morY\tFitness: 2\n",
            "Generation: 105\tString: /arpe diem memento morY\tFitness: 2\n",
            "Generation: 107\tString: /arpe diem memento morY\tFitness: 2\n",
            "Generation: 109\tString: /arpe diem memento morY\tFitness: 2\n",
            "Generation: 111\tString: /arpe diem memento morY\tFitness: 2\n",
            "Generation: 113\tString: /arpe diem memento morY\tFitness: 2\n",
            "Generation: 115\tString: /arpe diem memento morY\tFitness: 2\n",
            "Generation: 117\tString: /arpe diem memento morY\tFitness: 2\n",
            "Generation: 119\tString: /arpe diem memento morY\tFitness: 2\n",
            "Generation: 121\tString: /arpe diem memento morY\tFitness: 2\n",
            "Generation: 123\tString: /arpe diem memento morY\tFitness: 2\n",
            "Generation: 125\tString: /arpe diem memento morY\tFitness: 2\n",
            "Generation: 127\tString: /arpe diem memento morY\tFitness: 2\n",
            "Generation: 129\tString: /arpe diem memento morY\tFitness: 2\n",
            "Generation: 131\tString: /arpe diem memento morY\tFitness: 2\n",
            "Generation: 133\tString: /arpe diem memento morY\tFitness: 2\n",
            "Generation: 135\tString: /arpe diem memento morY\tFitness: 2\n",
            "Generation: 137\tString: /arpe diem memento morY\tFitness: 2\n",
            "Generation: 139\tString: /arpe diem memento morY\tFitness: 2\n",
            "Generation: 141\tString: /arpe diem memento morY\tFitness: 2\n",
            "Generation: 143\tString: /arpe diem memento morY\tFitness: 2\n",
            "Generation: 145\tString: /arpe diem memento morY\tFitness: 2\n",
            "Generation: 147\tString: /arpe diem memento morY\tFitness: 2\n",
            "Generation: 149\tString: /arpe diem memento morY\tFitness: 2\n",
            "Generation: 151\tString: /arpe diem memento morY\tFitness: 2\n",
            "Generation: 153\tString: /arpe diem memento morY\tFitness: 2\n",
            "Generation: 155\tString: /arpe diem memento morY\tFitness: 2\n",
            "Generation: 157\tString: /arpe diem memento morY\tFitness: 2\n",
            "Generation: 159\tString: /arpe diem memento morY\tFitness: 2\n",
            "Generation: 161\tString: /arpe diem memento morY\tFitness: 2\n",
            "Generation: 163\tString: /arpe diem memento morY\tFitness: 2\n",
            "Generation: 165\tString: /arpe diem memento morY\tFitness: 2\n",
            "Generation: 167\tString: /arpe diem memento morY\tFitness: 2\n",
            "Generation: 169\tString: /arpe diem memento morY\tFitness: 2\n",
            "Generation: 171\tString: /arpe diem memento morY\tFitness: 2\n",
            "Generation: 173\tString: /arpe diem memento morY\tFitness: 2\n",
            "Generation: 175\tString: /arpe diem memento morY\tFitness: 2\n",
            "Generation: 177\tString: /arpe diem memento morY\tFitness: 2\n",
            "Generation: 179\tString: /arpe diem memento morY\tFitness: 2\n",
            "Generation: 181\tString: /arpe diem memento morY\tFitness: 2\n",
            "Generation: 183\tString: /arpe diem memento morY\tFitness: 2\n",
            "Generation: 185\tString: /arpe diem memento morY\tFitness: 2\n",
            "Generation: 187\tString: /arpe diem memento morY\tFitness: 2\n",
            "Generation: 189\tString: /arpe diem memento morY\tFitness: 2\n",
            "Generation: 191\tString: /arpe diem memento morY\tFitness: 2\n",
            "Generation: 193\tString: /arpe diem memento morY\tFitness: 2\n",
            "Generation: 195\tString: /arpe diem memento morY\tFitness: 2\n",
            "Generation: 197\tString: /arpe diem memento morY\tFitness: 2\n",
            "Generation: 199\tString: Carpe diem memento mor)\tFitness: 1\n",
            "Generation: 201\tString: Carpe diem memento mor)\tFitness: 1\n",
            "Generation: 203\tString: Carpe diem memento mor)\tFitness: 1\n",
            "Generation: 205\tString: Carpe diem memento mor)\tFitness: 1\n",
            "Generation: 207\tString: Carpe diem memento mor)\tFitness: 1\n",
            "Generation: 209\tString: Carpe diem memento mor)\tFitness: 1\n",
            "Generation: 211\tString: Carpe diem memento mor)\tFitness: 1\n",
            "Generation: 213\tString: Carpe diem memento mor)\tFitness: 1\n",
            "Generation: 215\tString: Carpe diem memento mor)\tFitness: 1\n",
            "Generation: 217\tString: Carpe diem memento mor)\tFitness: 1\n",
            "Generation: 219\tString: Carpe diem memento mor)\tFitness: 1\n",
            "Generation: 221\tString: Carpe diem memento mor)\tFitness: 1\n",
            "Generation: 222\tString: Carpe diem memento mori\tFitness: 0\n"
          ]
        }
      ]
    },
    {
      "cell_type": "markdown",
      "source": [
        " Сохранение и совместное использование:"
      ],
      "metadata": {
        "id": "ozACVuNhfmQQ"
      }
    }
  ]
}